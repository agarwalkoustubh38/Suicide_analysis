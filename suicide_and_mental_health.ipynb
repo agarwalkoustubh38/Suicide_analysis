{
 "cells": [
  {
   "cell_type": "code",
   "execution_count": 1,
   "id": "7c25e915",
   "metadata": {},
   "outputs": [],
   "source": [
    "import numpy as np\n",
    "import pandas as pd\n",
    "import matplotlib.pyplot as plt"
   ]
  },
  {
   "cell_type": "code",
   "execution_count": 2,
   "id": "92aed1a5",
   "metadata": {},
   "outputs": [
    {
     "data": {
      "text/html": [
       "<div>\n",
       "<style scoped>\n",
       "    .dataframe tbody tr th:only-of-type {\n",
       "        vertical-align: middle;\n",
       "    }\n",
       "\n",
       "    .dataframe tbody tr th {\n",
       "        vertical-align: top;\n",
       "    }\n",
       "\n",
       "    .dataframe thead th {\n",
       "        text-align: right;\n",
       "    }\n",
       "</style>\n",
       "<table border=\"1\" class=\"dataframe\">\n",
       "  <thead>\n",
       "    <tr style=\"text-align: right;\">\n",
       "      <th></th>\n",
       "      <th>State</th>\n",
       "      <th>Year</th>\n",
       "      <th>Type_code</th>\n",
       "      <th>Type</th>\n",
       "      <th>Gender</th>\n",
       "      <th>Age_group</th>\n",
       "      <th>Total</th>\n",
       "    </tr>\n",
       "  </thead>\n",
       "  <tbody>\n",
       "    <tr>\n",
       "      <th>0</th>\n",
       "      <td>A &amp; N Islands</td>\n",
       "      <td>2001</td>\n",
       "      <td>Causes</td>\n",
       "      <td>Illness (Aids/STD)</td>\n",
       "      <td>Female</td>\n",
       "      <td>0-14</td>\n",
       "      <td>0.0</td>\n",
       "    </tr>\n",
       "    <tr>\n",
       "      <th>1</th>\n",
       "      <td>A &amp; N Islands</td>\n",
       "      <td>2001</td>\n",
       "      <td>Causes</td>\n",
       "      <td>Bankruptcy or Sudden change in Economic</td>\n",
       "      <td>Female</td>\n",
       "      <td>0-14</td>\n",
       "      <td>0.0</td>\n",
       "    </tr>\n",
       "    <tr>\n",
       "      <th>2</th>\n",
       "      <td>A &amp; N Islands</td>\n",
       "      <td>2001</td>\n",
       "      <td>Causes</td>\n",
       "      <td>Cancellation/Non-Settlement of Marriage</td>\n",
       "      <td>Female</td>\n",
       "      <td>0-14</td>\n",
       "      <td>0.0</td>\n",
       "    </tr>\n",
       "    <tr>\n",
       "      <th>3</th>\n",
       "      <td>A &amp; N Islands</td>\n",
       "      <td>2001</td>\n",
       "      <td>Causes</td>\n",
       "      <td>Physical Abuse (Rape/Incest Etc.)</td>\n",
       "      <td>Female</td>\n",
       "      <td>0-14</td>\n",
       "      <td>0.0</td>\n",
       "    </tr>\n",
       "    <tr>\n",
       "      <th>4</th>\n",
       "      <td>A &amp; N Islands</td>\n",
       "      <td>2001</td>\n",
       "      <td>Causes</td>\n",
       "      <td>Dowry Dispute</td>\n",
       "      <td>Female</td>\n",
       "      <td>0-14</td>\n",
       "      <td>0.0</td>\n",
       "    </tr>\n",
       "    <tr>\n",
       "      <th>...</th>\n",
       "      <td>...</td>\n",
       "      <td>...</td>\n",
       "      <td>...</td>\n",
       "      <td>...</td>\n",
       "      <td>...</td>\n",
       "      <td>...</td>\n",
       "      <td>...</td>\n",
       "    </tr>\n",
       "    <tr>\n",
       "      <th>237514</th>\n",
       "      <td>West Bengal</td>\n",
       "      <td>2012</td>\n",
       "      <td>Social_Status</td>\n",
       "      <td>Seperated</td>\n",
       "      <td>Male</td>\n",
       "      <td>0-100+</td>\n",
       "      <td>149.0</td>\n",
       "    </tr>\n",
       "    <tr>\n",
       "      <th>237515</th>\n",
       "      <td>West Bengal</td>\n",
       "      <td>2012</td>\n",
       "      <td>Social_Status</td>\n",
       "      <td>Widowed/Widower</td>\n",
       "      <td>Male</td>\n",
       "      <td>0-100+</td>\n",
       "      <td>233.0</td>\n",
       "    </tr>\n",
       "    <tr>\n",
       "      <th>237516</th>\n",
       "      <td>West Bengal</td>\n",
       "      <td>2012</td>\n",
       "      <td>Social_Status</td>\n",
       "      <td>Married</td>\n",
       "      <td>Male</td>\n",
       "      <td>0-100+</td>\n",
       "      <td>5451.0</td>\n",
       "    </tr>\n",
       "    <tr>\n",
       "      <th>237517</th>\n",
       "      <td>West Bengal</td>\n",
       "      <td>2012</td>\n",
       "      <td>Social_Status</td>\n",
       "      <td>Divorcee</td>\n",
       "      <td>Male</td>\n",
       "      <td>0-100+</td>\n",
       "      <td>189.0</td>\n",
       "    </tr>\n",
       "    <tr>\n",
       "      <th>237518</th>\n",
       "      <td>West Bengal</td>\n",
       "      <td>2012</td>\n",
       "      <td>Social_Status</td>\n",
       "      <td>Never Married</td>\n",
       "      <td>Male</td>\n",
       "      <td>0-100+</td>\n",
       "      <td>2658.0</td>\n",
       "    </tr>\n",
       "  </tbody>\n",
       "</table>\n",
       "<p>237519 rows × 7 columns</p>\n",
       "</div>"
      ],
      "text/plain": [
       "                State  Year      Type_code  \\\n",
       "0       A & N Islands  2001         Causes   \n",
       "1       A & N Islands  2001         Causes   \n",
       "2       A & N Islands  2001         Causes   \n",
       "3       A & N Islands  2001         Causes   \n",
       "4       A & N Islands  2001         Causes   \n",
       "...               ...   ...            ...   \n",
       "237514    West Bengal  2012  Social_Status   \n",
       "237515    West Bengal  2012  Social_Status   \n",
       "237516    West Bengal  2012  Social_Status   \n",
       "237517    West Bengal  2012  Social_Status   \n",
       "237518    West Bengal  2012  Social_Status   \n",
       "\n",
       "                                           Type  Gender Age_group   Total  \n",
       "0                            Illness (Aids/STD)  Female      0-14     0.0  \n",
       "1       Bankruptcy or Sudden change in Economic  Female      0-14     0.0  \n",
       "2       Cancellation/Non-Settlement of Marriage  Female      0-14     0.0  \n",
       "3             Physical Abuse (Rape/Incest Etc.)  Female      0-14     0.0  \n",
       "4                                 Dowry Dispute  Female      0-14     0.0  \n",
       "...                                         ...     ...       ...     ...  \n",
       "237514                                Seperated    Male    0-100+   149.0  \n",
       "237515                          Widowed/Widower    Male    0-100+   233.0  \n",
       "237516                                  Married    Male    0-100+  5451.0  \n",
       "237517                                 Divorcee    Male    0-100+   189.0  \n",
       "237518                            Never Married    Male    0-100+  2658.0  \n",
       "\n",
       "[237519 rows x 7 columns]"
      ]
     },
     "execution_count": 2,
     "metadata": {},
     "output_type": "execute_result"
    }
   ],
   "source": [
    "data = pd.read_csv('Suicides in India 2001-2012.csv')\n",
    "data"
   ]
  },
  {
   "cell_type": "code",
   "execution_count": 3,
   "id": "50631eb3",
   "metadata": {},
   "outputs": [
    {
     "data": {
      "text/plain": [
       "(237519, 7)"
      ]
     },
     "execution_count": 3,
     "metadata": {},
     "output_type": "execute_result"
    }
   ],
   "source": [
    "data.shape"
   ]
  },
  {
   "cell_type": "code",
   "execution_count": 4,
   "id": "fe1c037f",
   "metadata": {},
   "outputs": [
    {
     "data": {
      "text/plain": [
       "<bound method DataFrame.info of                 State  Year      Type_code  \\\n",
       "0       A & N Islands  2001         Causes   \n",
       "1       A & N Islands  2001         Causes   \n",
       "2       A & N Islands  2001         Causes   \n",
       "3       A & N Islands  2001         Causes   \n",
       "4       A & N Islands  2001         Causes   \n",
       "...               ...   ...            ...   \n",
       "237514    West Bengal  2012  Social_Status   \n",
       "237515    West Bengal  2012  Social_Status   \n",
       "237516    West Bengal  2012  Social_Status   \n",
       "237517    West Bengal  2012  Social_Status   \n",
       "237518    West Bengal  2012  Social_Status   \n",
       "\n",
       "                                           Type  Gender Age_group   Total  \n",
       "0                            Illness (Aids/STD)  Female      0-14     0.0  \n",
       "1       Bankruptcy or Sudden change in Economic  Female      0-14     0.0  \n",
       "2       Cancellation/Non-Settlement of Marriage  Female      0-14     0.0  \n",
       "3             Physical Abuse (Rape/Incest Etc.)  Female      0-14     0.0  \n",
       "4                                 Dowry Dispute  Female      0-14     0.0  \n",
       "...                                         ...     ...       ...     ...  \n",
       "237514                                Seperated    Male    0-100+   149.0  \n",
       "237515                          Widowed/Widower    Male    0-100+   233.0  \n",
       "237516                                  Married    Male    0-100+  5451.0  \n",
       "237517                                 Divorcee    Male    0-100+   189.0  \n",
       "237518                            Never Married    Male    0-100+  2658.0  \n",
       "\n",
       "[237519 rows x 7 columns]>"
      ]
     },
     "execution_count": 4,
     "metadata": {},
     "output_type": "execute_result"
    }
   ],
   "source": [
    "data.info"
   ]
  },
  {
   "cell_type": "code",
   "execution_count": 5,
   "id": "6abbd354",
   "metadata": {},
   "outputs": [
    {
     "data": {
      "text/html": [
       "<div>\n",
       "<style scoped>\n",
       "    .dataframe tbody tr th:only-of-type {\n",
       "        vertical-align: middle;\n",
       "    }\n",
       "\n",
       "    .dataframe tbody tr th {\n",
       "        vertical-align: top;\n",
       "    }\n",
       "\n",
       "    .dataframe thead th {\n",
       "        text-align: right;\n",
       "    }\n",
       "</style>\n",
       "<table border=\"1\" class=\"dataframe\">\n",
       "  <thead>\n",
       "    <tr style=\"text-align: right;\">\n",
       "      <th></th>\n",
       "      <th>State</th>\n",
       "      <th>Year</th>\n",
       "      <th>Type_code</th>\n",
       "      <th>Type</th>\n",
       "      <th>Gender</th>\n",
       "      <th>Age_group</th>\n",
       "      <th>Total</th>\n",
       "    </tr>\n",
       "  </thead>\n",
       "  <tbody>\n",
       "    <tr>\n",
       "      <th>0</th>\n",
       "      <td>False</td>\n",
       "      <td>False</td>\n",
       "      <td>False</td>\n",
       "      <td>False</td>\n",
       "      <td>False</td>\n",
       "      <td>False</td>\n",
       "      <td>False</td>\n",
       "    </tr>\n",
       "    <tr>\n",
       "      <th>1</th>\n",
       "      <td>False</td>\n",
       "      <td>False</td>\n",
       "      <td>False</td>\n",
       "      <td>False</td>\n",
       "      <td>False</td>\n",
       "      <td>False</td>\n",
       "      <td>False</td>\n",
       "    </tr>\n",
       "    <tr>\n",
       "      <th>2</th>\n",
       "      <td>False</td>\n",
       "      <td>False</td>\n",
       "      <td>False</td>\n",
       "      <td>False</td>\n",
       "      <td>False</td>\n",
       "      <td>False</td>\n",
       "      <td>False</td>\n",
       "    </tr>\n",
       "    <tr>\n",
       "      <th>3</th>\n",
       "      <td>False</td>\n",
       "      <td>False</td>\n",
       "      <td>False</td>\n",
       "      <td>False</td>\n",
       "      <td>False</td>\n",
       "      <td>False</td>\n",
       "      <td>False</td>\n",
       "    </tr>\n",
       "    <tr>\n",
       "      <th>4</th>\n",
       "      <td>False</td>\n",
       "      <td>False</td>\n",
       "      <td>False</td>\n",
       "      <td>False</td>\n",
       "      <td>False</td>\n",
       "      <td>False</td>\n",
       "      <td>False</td>\n",
       "    </tr>\n",
       "    <tr>\n",
       "      <th>...</th>\n",
       "      <td>...</td>\n",
       "      <td>...</td>\n",
       "      <td>...</td>\n",
       "      <td>...</td>\n",
       "      <td>...</td>\n",
       "      <td>...</td>\n",
       "      <td>...</td>\n",
       "    </tr>\n",
       "    <tr>\n",
       "      <th>237514</th>\n",
       "      <td>False</td>\n",
       "      <td>False</td>\n",
       "      <td>False</td>\n",
       "      <td>False</td>\n",
       "      <td>False</td>\n",
       "      <td>False</td>\n",
       "      <td>False</td>\n",
       "    </tr>\n",
       "    <tr>\n",
       "      <th>237515</th>\n",
       "      <td>False</td>\n",
       "      <td>False</td>\n",
       "      <td>False</td>\n",
       "      <td>False</td>\n",
       "      <td>False</td>\n",
       "      <td>False</td>\n",
       "      <td>False</td>\n",
       "    </tr>\n",
       "    <tr>\n",
       "      <th>237516</th>\n",
       "      <td>False</td>\n",
       "      <td>False</td>\n",
       "      <td>False</td>\n",
       "      <td>False</td>\n",
       "      <td>False</td>\n",
       "      <td>False</td>\n",
       "      <td>False</td>\n",
       "    </tr>\n",
       "    <tr>\n",
       "      <th>237517</th>\n",
       "      <td>False</td>\n",
       "      <td>False</td>\n",
       "      <td>False</td>\n",
       "      <td>False</td>\n",
       "      <td>False</td>\n",
       "      <td>False</td>\n",
       "      <td>False</td>\n",
       "    </tr>\n",
       "    <tr>\n",
       "      <th>237518</th>\n",
       "      <td>False</td>\n",
       "      <td>False</td>\n",
       "      <td>False</td>\n",
       "      <td>False</td>\n",
       "      <td>False</td>\n",
       "      <td>False</td>\n",
       "      <td>False</td>\n",
       "    </tr>\n",
       "  </tbody>\n",
       "</table>\n",
       "<p>237519 rows × 7 columns</p>\n",
       "</div>"
      ],
      "text/plain": [
       "        State   Year  Type_code   Type  Gender  Age_group  Total\n",
       "0       False  False      False  False   False      False  False\n",
       "1       False  False      False  False   False      False  False\n",
       "2       False  False      False  False   False      False  False\n",
       "3       False  False      False  False   False      False  False\n",
       "4       False  False      False  False   False      False  False\n",
       "...       ...    ...        ...    ...     ...        ...    ...\n",
       "237514  False  False      False  False   False      False  False\n",
       "237515  False  False      False  False   False      False  False\n",
       "237516  False  False      False  False   False      False  False\n",
       "237517  False  False      False  False   False      False  False\n",
       "237518  False  False      False  False   False      False  False\n",
       "\n",
       "[237519 rows x 7 columns]"
      ]
     },
     "execution_count": 5,
     "metadata": {},
     "output_type": "execute_result"
    }
   ],
   "source": [
    "data.isnull()"
   ]
  },
  {
   "cell_type": "code",
   "execution_count": 6,
   "id": "a677ccc4",
   "metadata": {},
   "outputs": [
    {
     "data": {
      "text/plain": [
       "State        0\n",
       "Year         0\n",
       "Type_code    0\n",
       "Type         6\n",
       "Gender       0\n",
       "Age_group    0\n",
       "Total        5\n",
       "dtype: int64"
      ]
     },
     "execution_count": 6,
     "metadata": {},
     "output_type": "execute_result"
    }
   ],
   "source": [
    "data.isnull().sum()"
   ]
  },
  {
   "cell_type": "code",
   "execution_count": 7,
   "id": "20472e3b",
   "metadata": {},
   "outputs": [],
   "source": [
    "#total missing value = 0\n",
    "data.Total.fillna(0,inplace=True)\n"
   ]
  },
  {
   "cell_type": "code",
   "execution_count": 8,
   "id": "bb93d920",
   "metadata": {},
   "outputs": [],
   "source": [
    "#empty causes cell to others\n",
    "data.Type.fillna(\"others\",inplace=True)\n"
   ]
  },
  {
   "cell_type": "code",
   "execution_count": 9,
   "id": "3a46c63b",
   "metadata": {},
   "outputs": [
    {
     "data": {
      "text/plain": [
       "State        0\n",
       "Year         0\n",
       "Type_code    0\n",
       "Type         0\n",
       "Gender       0\n",
       "Age_group    0\n",
       "Total        0\n",
       "dtype: int64"
      ]
     },
     "execution_count": 9,
     "metadata": {},
     "output_type": "execute_result"
    }
   ],
   "source": [
    "data.isnull().sum()"
   ]
  },
  {
   "cell_type": "markdown",
   "id": "ed9125b1",
   "metadata": {},
   "source": [
    "# Number of total suicides"
   ]
  },
  {
   "cell_type": "code",
   "execution_count": 10,
   "id": "a162a548",
   "metadata": {},
   "outputs": [
    {
     "data": {
      "text/plain": [
       "0            0.0\n",
       "1            0.0\n",
       "2            0.0\n",
       "3            0.0\n",
       "4            0.0\n",
       "           ...  \n",
       "237514     149.0\n",
       "237515     233.0\n",
       "237516    5451.0\n",
       "237517     189.0\n",
       "237518    2658.0\n",
       "Name: Total, Length: 237519, dtype: float64"
      ]
     },
     "execution_count": 10,
     "metadata": {},
     "output_type": "execute_result"
    }
   ],
   "source": [
    "data.Total"
   ]
  },
  {
   "cell_type": "code",
   "execution_count": 11,
   "id": "6d9d764a",
   "metadata": {},
   "outputs": [
    {
     "data": {
      "text/plain": [
       "0            0.0\n",
       "1            0.0\n",
       "2            0.0\n",
       "3            0.0\n",
       "4            0.0\n",
       "           ...  \n",
       "237514     149.0\n",
       "237515     233.0\n",
       "237516    5451.0\n",
       "237517     189.0\n",
       "237518    2658.0\n",
       "Name: Total, Length: 237519, dtype: float64"
      ]
     },
     "execution_count": 11,
     "metadata": {},
     "output_type": "execute_result"
    }
   ],
   "source": [
    "# data.iloc[s:e,cols]\n",
    "data.iloc[:,6]"
   ]
  },
  {
   "cell_type": "code",
   "execution_count": 12,
   "id": "9a306aaa",
   "metadata": {},
   "outputs": [
    {
     "data": {
      "text/plain": [
       "0            0.0\n",
       "1            0.0\n",
       "2            0.0\n",
       "3            0.0\n",
       "4            0.0\n",
       "           ...  \n",
       "237514     149.0\n",
       "237515     233.0\n",
       "237516    5451.0\n",
       "237517     189.0\n",
       "237518    2658.0\n",
       "Name: Total, Length: 237519, dtype: float64"
      ]
     },
     "execution_count": 12,
     "metadata": {},
     "output_type": "execute_result"
    }
   ],
   "source": [
    "data.loc[:,'Total']"
   ]
  },
  {
   "cell_type": "code",
   "execution_count": 13,
   "id": "9c24c424",
   "metadata": {},
   "outputs": [
    {
     "data": {
      "text/plain": [
       "13071734.0"
      ]
     },
     "execution_count": 13,
     "metadata": {},
     "output_type": "execute_result"
    }
   ],
   "source": [
    "data.Total.sum()"
   ]
  },
  {
   "cell_type": "markdown",
   "id": "1211e756",
   "metadata": {},
   "source": [
    "# total suicides in India state Wise"
   ]
  },
  {
   "cell_type": "code",
   "execution_count": 14,
   "id": "0e1d20a4",
   "metadata": {},
   "outputs": [
    {
     "data": {
      "text/plain": [
       "46350.0"
      ]
     },
     "execution_count": 14,
     "metadata": {},
     "output_type": "execute_result"
    }
   ],
   "source": [
    " index = data['State']=='Punjab'\n",
    "data[index].Total.sum()"
   ]
  },
  {
   "cell_type": "code",
   "execution_count": 29,
   "id": "c9858354",
   "metadata": {},
   "outputs": [
    {
     "data": {
      "text/plain": [
       "State\n",
       "A & N Islands           8109.0\n",
       "Andhra Pradesh        814059.0\n",
       "Arunachal Pradesh       6633.0\n",
       "Assam                 172276.0\n",
       "Bihar                  46214.0\n",
       "Chandigarh              5164.0\n",
       "Chhattisgarh          302354.0\n",
       "D & N Haveli            3430.0\n",
       "Daman & Diu             1391.0\n",
       "Delhi (Ut)             84272.0\n",
       "Goa                    17363.0\n",
       "Gujarat               330858.0\n",
       "Haryana               147176.0\n",
       "Himachal Pradesh       26562.0\n",
       "Jammu & Kashmir        14821.0\n",
       "Jharkhand              49720.0\n",
       "Karnataka             734825.0\n",
       "Kerala                538946.0\n",
       "Lakshadweep               50.0\n",
       "Madhya Pradesh        451535.0\n",
       "Maharashtra           901945.0\n",
       "Manipur                 2102.0\n",
       "Meghalaya               5415.0\n",
       "Mizoram                 4154.0\n",
       "Nagaland                1728.0\n",
       "Odisha                267234.0\n",
       "Puducherry             32144.0\n",
       "Punjab                 46350.0\n",
       "Rajasthan             255134.0\n",
       "Sikkim                  9606.0\n",
       "Tamil Nadu            818691.0\n",
       "Total (All India)    2911862.0\n",
       "Total (States)       2858026.0\n",
       "Total (Uts)            53836.0\n",
       "Tripura                45965.0\n",
       "Uttar Pradesh         233352.0\n",
       "Uttarakhand            18496.0\n",
       "West Bengal           849936.0\n",
       "Name: Total, dtype: float64"
      ]
     },
     "execution_count": 29,
     "metadata": {},
     "output_type": "execute_result"
    }
   ],
   "source": [
    "dat=data.groupby('State').Total.sum()\n",
    "dat"
   ]
  },
  {
   "cell_type": "code",
   "execution_count": 16,
   "id": "6f4a46d3",
   "metadata": {},
   "outputs": [
    {
     "data": {
      "text/plain": [
       "State\n",
       "Total (All India)    2911862.0\n",
       "Total (States)       2858026.0\n",
       "Maharashtra           901945.0\n",
       "West Bengal           849936.0\n",
       "Tamil Nadu            818691.0\n",
       "Andhra Pradesh        814059.0\n",
       "Karnataka             734825.0\n",
       "Kerala                538946.0\n",
       "Madhya Pradesh        451535.0\n",
       "Gujarat               330858.0\n",
       "Chhattisgarh          302354.0\n",
       "Odisha                267234.0\n",
       "Rajasthan             255134.0\n",
       "Uttar Pradesh         233352.0\n",
       "Assam                 172276.0\n",
       "Haryana               147176.0\n",
       "Delhi (Ut)             84272.0\n",
       "Total (Uts)            53836.0\n",
       "Jharkhand              49720.0\n",
       "Punjab                 46350.0\n",
       "Bihar                  46214.0\n",
       "Tripura                45965.0\n",
       "Puducherry             32144.0\n",
       "Himachal Pradesh       26562.0\n",
       "Uttarakhand            18496.0\n",
       "Goa                    17363.0\n",
       "Jammu & Kashmir        14821.0\n",
       "Sikkim                  9606.0\n",
       "A & N Islands           8109.0\n",
       "Arunachal Pradesh       6633.0\n",
       "Meghalaya               5415.0\n",
       "Chandigarh              5164.0\n",
       "Mizoram                 4154.0\n",
       "D & N Haveli            3430.0\n",
       "Manipur                 2102.0\n",
       "Nagaland                1728.0\n",
       "Daman & Diu             1391.0\n",
       "Lakshadweep               50.0\n",
       "Name: Total, dtype: float64"
      ]
     },
     "execution_count": 16,
     "metadata": {},
     "output_type": "execute_result"
    }
   ],
   "source": [
    "data.groupby('State').Total.sum().sort_values(ascending=False)"
   ]
  },
  {
   "cell_type": "markdown",
   "id": "6032a588",
   "metadata": {},
   "source": [
    "# Total suicides in India year wise"
   ]
  },
  {
   "cell_type": "code",
   "execution_count": 17,
   "id": "3e1d1f6b",
   "metadata": {},
   "outputs": [
    {
     "data": {
      "text/plain": [
       "Year\n",
       "2001     976464.0\n",
       "2002     993648.0\n",
       "2003     997622.0\n",
       "2004    1023137.0\n",
       "2005    1025201.0\n",
       "2006    1062991.0\n",
       "2007    1103667.0\n",
       "2008    1125082.0\n",
       "2009    1144033.0\n",
       "2010    1211322.0\n",
       "2011    1219499.0\n",
       "2012    1189068.0\n",
       "Name: Total, dtype: float64"
      ]
     },
     "execution_count": 17,
     "metadata": {},
     "output_type": "execute_result"
    }
   ],
   "source": [
    "d = data.groupby('Year').Total.sum()\n",
    "d"
   ]
  },
  {
   "cell_type": "code",
   "execution_count": 18,
   "id": "e6fa3d10",
   "metadata": {},
   "outputs": [],
   "source": [
    "x = d.index.values\n",
    "y = d.values"
   ]
  },
  {
   "cell_type": "code",
   "execution_count": 30,
   "id": "ff156c24",
   "metadata": {},
   "outputs": [
    {
     "data": {
      "image/png": "[encoded data removed]",
      "text/plain": [
       "<Figure size 640x480 with 1 Axes>"
      ]
     },
     "metadata": {},
     "output_type": "display_data"
    }
   ],
   "source": [
    "plt.scatter(x,y)\n",
    "plt.show()"
   ]
  },
  {
   "cell_type": "markdown",
   "id": "ea4909a6",
   "metadata": {},
   "source": [
    "\n",
    "# total suicides in India gender wise "
   ]
  },
  {
   "cell_type": "code",
   "execution_count": 19,
   "id": "338e8517",
   "metadata": {},
   "outputs": [
    {
     "data": {
      "text/plain": [
       "Gender\n",
       "Female    4702974.0\n",
       "Male      8368760.0\n",
       "Name: Total, dtype: float64"
      ]
     },
     "execution_count": 19,
     "metadata": {},
     "output_type": "execute_result"
    }
   ],
   "source": [
    "data.groupby('Gender').Total.sum() "
   ]
  },
  {
   "cell_type": "markdown",
   "id": "5ea88ad9",
   "metadata": {},
   "source": [
    "# total suicides in india state-year wise"
   ]
  },
  {
   "cell_type": "code",
   "execution_count": 20,
   "id": "842bf2b4",
   "metadata": {},
   "outputs": [
    {
     "data": {
      "text/plain": [
       "State          Year\n",
       "A & N Islands  2001      645.0\n",
       "               2002      720.0\n",
       "               2003      565.0\n",
       "               2004      610.0\n",
       "               2005      695.0\n",
       "                        ...   \n",
       "West Bengal    2008    74260.0\n",
       "               2009    73240.0\n",
       "               2010    80185.0\n",
       "               2011    82460.0\n",
       "               2012    44871.0\n",
       "Name: Total, Length: 456, dtype: float64"
      ]
     },
     "execution_count": 20,
     "metadata": {},
     "output_type": "execute_result"
    }
   ],
   "source": [
    "#in dataframe\n",
    "data.groupby(['State','Year'])['Total'].sum()"
   ]
  },
  {
   "cell_type": "code",
   "execution_count": 21,
   "id": "328219c7",
   "metadata": {},
   "outputs": [
    {
     "data": {
      "text/html": [
       "<div>\n",
       "<style scoped>\n",
       "    .dataframe tbody tr th:only-of-type {\n",
       "        vertical-align: middle;\n",
       "    }\n",
       "\n",
       "    .dataframe tbody tr th {\n",
       "        vertical-align: top;\n",
       "    }\n",
       "\n",
       "    .dataframe thead th {\n",
       "        text-align: right;\n",
       "    }\n",
       "</style>\n",
       "<table border=\"1\" class=\"dataframe\">\n",
       "  <thead>\n",
       "    <tr style=\"text-align: right;\">\n",
       "      <th></th>\n",
       "      <th></th>\n",
       "      <th>Total</th>\n",
       "    </tr>\n",
       "    <tr>\n",
       "      <th>State</th>\n",
       "      <th>Year</th>\n",
       "      <th></th>\n",
       "    </tr>\n",
       "  </thead>\n",
       "  <tbody>\n",
       "    <tr>\n",
       "      <th rowspan=\"5\" valign=\"top\">A &amp; N Islands</th>\n",
       "      <th>2001</th>\n",
       "      <td>645.0</td>\n",
       "    </tr>\n",
       "    <tr>\n",
       "      <th>2002</th>\n",
       "      <td>720.0</td>\n",
       "    </tr>\n",
       "    <tr>\n",
       "      <th>2003</th>\n",
       "      <td>565.0</td>\n",
       "    </tr>\n",
       "    <tr>\n",
       "      <th>2004</th>\n",
       "      <td>610.0</td>\n",
       "    </tr>\n",
       "    <tr>\n",
       "      <th>2005</th>\n",
       "      <td>695.0</td>\n",
       "    </tr>\n",
       "    <tr>\n",
       "      <th>...</th>\n",
       "      <th>...</th>\n",
       "      <td>...</td>\n",
       "    </tr>\n",
       "    <tr>\n",
       "      <th rowspan=\"5\" valign=\"top\">West Bengal</th>\n",
       "      <th>2008</th>\n",
       "      <td>74260.0</td>\n",
       "    </tr>\n",
       "    <tr>\n",
       "      <th>2009</th>\n",
       "      <td>73240.0</td>\n",
       "    </tr>\n",
       "    <tr>\n",
       "      <th>2010</th>\n",
       "      <td>80185.0</td>\n",
       "    </tr>\n",
       "    <tr>\n",
       "      <th>2011</th>\n",
       "      <td>82460.0</td>\n",
       "    </tr>\n",
       "    <tr>\n",
       "      <th>2012</th>\n",
       "      <td>44871.0</td>\n",
       "    </tr>\n",
       "  </tbody>\n",
       "</table>\n",
       "<p>456 rows × 1 columns</p>\n",
       "</div>"
      ],
      "text/plain": [
       "                      Total\n",
       "State         Year         \n",
       "A & N Islands 2001    645.0\n",
       "              2002    720.0\n",
       "              2003    565.0\n",
       "              2004    610.0\n",
       "              2005    695.0\n",
       "...                     ...\n",
       "West Bengal   2008  74260.0\n",
       "              2009  73240.0\n",
       "              2010  80185.0\n",
       "              2011  82460.0\n",
       "              2012  44871.0\n",
       "\n",
       "[456 rows x 1 columns]"
      ]
     },
     "execution_count": 21,
     "metadata": {},
     "output_type": "execute_result"
    }
   ],
   "source": [
    "#in dataframe\n",
    "data.groupby(['State','Year'])[['Total']].sum()"
   ]
  },
  {
   "cell_type": "code",
   "execution_count": 22,
   "id": "5e7f750b",
   "metadata": {},
   "outputs": [],
   "source": [
    "data.groupby(['State','Year'])[['Total']].sum().to_html('index.html')\n",
    "data.groupby(['State','Year'])[['Total']].sum().to_csv('index.csv')"
   ]
  },
  {
   "cell_type": "markdown",
   "id": "455ed4dc",
   "metadata": {},
   "source": [
    "# Total suicides in India state-gender wise"
   ]
  },
  {
   "cell_type": "code",
   "execution_count": 23,
   "id": "7f99e2db",
   "metadata": {},
   "outputs": [
    {
     "data": {
      "text/html": [
       "<div>\n",
       "<style scoped>\n",
       "    .dataframe tbody tr th:only-of-type {\n",
       "        vertical-align: middle;\n",
       "    }\n",
       "\n",
       "    .dataframe tbody tr th {\n",
       "        vertical-align: top;\n",
       "    }\n",
       "\n",
       "    .dataframe thead th {\n",
       "        text-align: right;\n",
       "    }\n",
       "</style>\n",
       "<table border=\"1\" class=\"dataframe\">\n",
       "  <thead>\n",
       "    <tr style=\"text-align: right;\">\n",
       "      <th></th>\n",
       "      <th></th>\n",
       "      <th>Total</th>\n",
       "    </tr>\n",
       "    <tr>\n",
       "      <th>State</th>\n",
       "      <th>Gender</th>\n",
       "      <th></th>\n",
       "    </tr>\n",
       "  </thead>\n",
       "  <tbody>\n",
       "    <tr>\n",
       "      <th rowspan=\"2\" valign=\"top\">A &amp; N Islands</th>\n",
       "      <th>Female</th>\n",
       "      <td>2750.0</td>\n",
       "    </tr>\n",
       "    <tr>\n",
       "      <th>Male</th>\n",
       "      <td>5359.0</td>\n",
       "    </tr>\n",
       "    <tr>\n",
       "      <th rowspan=\"2\" valign=\"top\">Andhra Pradesh</th>\n",
       "      <th>Female</th>\n",
       "      <td>271939.0</td>\n",
       "    </tr>\n",
       "    <tr>\n",
       "      <th>Male</th>\n",
       "      <td>542120.0</td>\n",
       "    </tr>\n",
       "    <tr>\n",
       "      <th>Arunachal Pradesh</th>\n",
       "      <th>Female</th>\n",
       "      <td>1954.0</td>\n",
       "    </tr>\n",
       "    <tr>\n",
       "      <th>...</th>\n",
       "      <th>...</th>\n",
       "      <td>...</td>\n",
       "    </tr>\n",
       "    <tr>\n",
       "      <th>Uttar Pradesh</th>\n",
       "      <th>Male</th>\n",
       "      <td>125327.0</td>\n",
       "    </tr>\n",
       "    <tr>\n",
       "      <th rowspan=\"2\" valign=\"top\">Uttarakhand</th>\n",
       "      <th>Female</th>\n",
       "      <td>7548.0</td>\n",
       "    </tr>\n",
       "    <tr>\n",
       "      <th>Male</th>\n",
       "      <td>10948.0</td>\n",
       "    </tr>\n",
       "    <tr>\n",
       "      <th rowspan=\"2\" valign=\"top\">West Bengal</th>\n",
       "      <th>Female</th>\n",
       "      <td>365241.0</td>\n",
       "    </tr>\n",
       "    <tr>\n",
       "      <th>Male</th>\n",
       "      <td>484695.0</td>\n",
       "    </tr>\n",
       "  </tbody>\n",
       "</table>\n",
       "<p>76 rows × 1 columns</p>\n",
       "</div>"
      ],
      "text/plain": [
       "                             Total\n",
       "State             Gender          \n",
       "A & N Islands     Female    2750.0\n",
       "                  Male      5359.0\n",
       "Andhra Pradesh    Female  271939.0\n",
       "                  Male    542120.0\n",
       "Arunachal Pradesh Female    1954.0\n",
       "...                            ...\n",
       "Uttar Pradesh     Male    125327.0\n",
       "Uttarakhand       Female    7548.0\n",
       "                  Male     10948.0\n",
       "West Bengal       Female  365241.0\n",
       "                  Male    484695.0\n",
       "\n",
       "[76 rows x 1 columns]"
      ]
     },
     "execution_count": 23,
     "metadata": {},
     "output_type": "execute_result"
    }
   ],
   "source": [
    "data.groupby(['State','Gender'])[['Total']].sum()"
   ]
  },
  {
   "cell_type": "markdown",
   "id": "5c56f436",
   "metadata": {},
   "source": [
    "# total suicides in india year- gender wise"
   ]
  },
  {
   "cell_type": "code",
   "execution_count": 24,
   "id": "7327a8ae",
   "metadata": {},
   "outputs": [
    {
     "data": {
      "text/html": [
       "<div>\n",
       "<style scoped>\n",
       "    .dataframe tbody tr th:only-of-type {\n",
       "        vertical-align: middle;\n",
       "    }\n",
       "\n",
       "    .dataframe tbody tr th {\n",
       "        vertical-align: top;\n",
       "    }\n",
       "\n",
       "    .dataframe thead th {\n",
       "        text-align: right;\n",
       "    }\n",
       "</style>\n",
       "<table border=\"1\" class=\"dataframe\">\n",
       "  <thead>\n",
       "    <tr style=\"text-align: right;\">\n",
       "      <th></th>\n",
       "      <th></th>\n",
       "      <th>Total</th>\n",
       "    </tr>\n",
       "    <tr>\n",
       "      <th>Year</th>\n",
       "      <th>Gender</th>\n",
       "      <th></th>\n",
       "    </tr>\n",
       "  </thead>\n",
       "  <tbody>\n",
       "    <tr>\n",
       "      <th rowspan=\"2\" valign=\"top\">2001</th>\n",
       "      <th>Female</th>\n",
       "      <td>379645.0</td>\n",
       "    </tr>\n",
       "    <tr>\n",
       "      <th>Male</th>\n",
       "      <td>596819.0</td>\n",
       "    </tr>\n",
       "    <tr>\n",
       "      <th rowspan=\"2\" valign=\"top\">2002</th>\n",
       "      <th>Female</th>\n",
       "      <td>369675.0</td>\n",
       "    </tr>\n",
       "    <tr>\n",
       "      <th>Male</th>\n",
       "      <td>623973.0</td>\n",
       "    </tr>\n",
       "    <tr>\n",
       "      <th rowspan=\"2\" valign=\"top\">2003</th>\n",
       "      <th>Female</th>\n",
       "      <td>365657.0</td>\n",
       "    </tr>\n",
       "    <tr>\n",
       "      <th>Male</th>\n",
       "      <td>631965.0</td>\n",
       "    </tr>\n",
       "    <tr>\n",
       "      <th rowspan=\"2\" valign=\"top\">2004</th>\n",
       "      <th>Female</th>\n",
       "      <td>369297.0</td>\n",
       "    </tr>\n",
       "    <tr>\n",
       "      <th>Male</th>\n",
       "      <td>653840.0</td>\n",
       "    </tr>\n",
       "    <tr>\n",
       "      <th rowspan=\"2\" valign=\"top\">2005</th>\n",
       "      <th>Female</th>\n",
       "      <td>368980.0</td>\n",
       "    </tr>\n",
       "    <tr>\n",
       "      <th>Male</th>\n",
       "      <td>656221.0</td>\n",
       "    </tr>\n",
       "    <tr>\n",
       "      <th rowspan=\"2\" valign=\"top\">2006</th>\n",
       "      <th>Female</th>\n",
       "      <td>381677.0</td>\n",
       "    </tr>\n",
       "    <tr>\n",
       "      <th>Male</th>\n",
       "      <td>681314.0</td>\n",
       "    </tr>\n",
       "    <tr>\n",
       "      <th rowspan=\"2\" valign=\"top\">2007</th>\n",
       "      <th>Female</th>\n",
       "      <td>390032.0</td>\n",
       "    </tr>\n",
       "    <tr>\n",
       "      <th>Male</th>\n",
       "      <td>713635.0</td>\n",
       "    </tr>\n",
       "    <tr>\n",
       "      <th rowspan=\"2\" valign=\"top\">2008</th>\n",
       "      <th>Female</th>\n",
       "      <td>400202.0</td>\n",
       "    </tr>\n",
       "    <tr>\n",
       "      <th>Male</th>\n",
       "      <td>724880.0</td>\n",
       "    </tr>\n",
       "    <tr>\n",
       "      <th rowspan=\"2\" valign=\"top\">2009</th>\n",
       "      <th>Female</th>\n",
       "      <td>411050.0</td>\n",
       "    </tr>\n",
       "    <tr>\n",
       "      <th>Male</th>\n",
       "      <td>732983.0</td>\n",
       "    </tr>\n",
       "    <tr>\n",
       "      <th rowspan=\"2\" valign=\"top\">2010</th>\n",
       "      <th>Female</th>\n",
       "      <td>426705.0</td>\n",
       "    </tr>\n",
       "    <tr>\n",
       "      <th>Male</th>\n",
       "      <td>784617.0</td>\n",
       "    </tr>\n",
       "    <tr>\n",
       "      <th rowspan=\"2\" valign=\"top\">2011</th>\n",
       "      <th>Female</th>\n",
       "      <td>429688.0</td>\n",
       "    </tr>\n",
       "    <tr>\n",
       "      <th>Male</th>\n",
       "      <td>789811.0</td>\n",
       "    </tr>\n",
       "    <tr>\n",
       "      <th rowspan=\"2\" valign=\"top\">2012</th>\n",
       "      <th>Female</th>\n",
       "      <td>410366.0</td>\n",
       "    </tr>\n",
       "    <tr>\n",
       "      <th>Male</th>\n",
       "      <td>778702.0</td>\n",
       "    </tr>\n",
       "  </tbody>\n",
       "</table>\n",
       "</div>"
      ],
      "text/plain": [
       "                Total\n",
       "Year Gender          \n",
       "2001 Female  379645.0\n",
       "     Male    596819.0\n",
       "2002 Female  369675.0\n",
       "     Male    623973.0\n",
       "2003 Female  365657.0\n",
       "     Male    631965.0\n",
       "2004 Female  369297.0\n",
       "     Male    653840.0\n",
       "2005 Female  368980.0\n",
       "     Male    656221.0\n",
       "2006 Female  381677.0\n",
       "     Male    681314.0\n",
       "2007 Female  390032.0\n",
       "     Male    713635.0\n",
       "2008 Female  400202.0\n",
       "     Male    724880.0\n",
       "2009 Female  411050.0\n",
       "     Male    732983.0\n",
       "2010 Female  426705.0\n",
       "     Male    784617.0\n",
       "2011 Female  429688.0\n",
       "     Male    789811.0\n",
       "2012 Female  410366.0\n",
       "     Male    778702.0"
      ]
     },
     "execution_count": 24,
     "metadata": {},
     "output_type": "execute_result"
    }
   ],
   "source": [
    "data.groupby(['Year','Gender'])[['Total']].sum()"
   ]
  },
  {
   "cell_type": "markdown",
   "id": "96421d7d",
   "metadata": {},
   "source": [
    "# Total suicides in India State-year-Gender Wise"
   ]
  },
  {
   "cell_type": "code",
   "execution_count": 25,
   "id": "0a3a2778",
   "metadata": {},
   "outputs": [],
   "source": [
    "data.groupby(['State','Year','Gender'])[['Total']].sum().to_html('index.html')"
   ]
  },
  {
   "cell_type": "code",
   "execution_count": 26,
   "id": "5fd6bd2a",
   "metadata": {
    "scrolled": true
   },
   "outputs": [
    {
     "data": {
      "text/plain": [
       "Type\n",
       "Married                                      3065322.0\n",
       "Primary                                      1088481.0\n",
       "Middle                                       1028913.0\n",
       "No Education                                  965271.0\n",
       "Never Married                                 954903.0\n",
       "                                               ...    \n",
       "Illegitimate Pregnancy                          2494.0\n",
       "Ideological Causes/Hero Worshipping             2118.0\n",
       "By Machine                                      1661.0\n",
       "Not having Children (Barrenness/Impotency        766.0\n",
       "others                                             2.0\n",
       "Name: Total, Length: 70, dtype: float64"
      ]
     },
     "execution_count": 26,
     "metadata": {},
     "output_type": "execute_result"
    }
   ],
   "source": [
    "data.groupby('Type').Total.sum().sort_values(ascending=False)"
   ]
  },
  {
   "cell_type": "markdown",
   "id": "a975797c",
   "metadata": {},
   "source": []
  },
  {
   "cell_type": "code",
   "execution_count": 27,
   "id": "77664e35",
   "metadata": {},
   "outputs": [],
   "source": [
    "d=data.groupby('Year').Total.sum()"
   ]
  },
  {
   "cell_type": "code",
   "execution_count": 28,
   "id": "69fdd30a",
   "metadata": {},
   "outputs": [
    {
     "data": {
      "text/plain": [
       "array([2001, 2002, 2003, 2004, 2005, 2006, 2007, 2008, 2009, 2010, 2011,\n",
       "       2012], dtype=int64)"
      ]
     },
     "execution_count": 28,
     "metadata": {},
     "output_type": "execute_result"
    }
   ],
   "source": [
    " # input == features\n",
    "# output == labels\n",
    "d.index.values "
   ]
  },
  {
   "cell_type": "code",
   "execution_count": null,
   "id": "7c16f264",
   "metadata": {},
   "outputs": [],
   "source": [
    "  "
   ]
  }
 ],
 "metadata": {
  "kernelspec": {
   "display_name": "Python 3 (ipykernel)",
   "language": "python",
   "name": "python3"
  },
  "language_info": {
   "codemirror_mode": {
    "name": "ipython",
    "version": 3
   },
   "file_extension": ".py",
   "mimetype": "text/x-python",
   "name": "python",
   "nbconvert_exporter": "python",
   "pygments_lexer": "ipython3",
   "version": "3.10.10"
  }
 },
 "nbformat": 4,
 "nbformat_minor": 5
}
